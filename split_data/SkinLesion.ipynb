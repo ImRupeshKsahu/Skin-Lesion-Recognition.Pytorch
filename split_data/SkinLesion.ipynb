pip install pretrainedmodels
!python /content/drive/MyDrive/Skin-Lesion-Recognition.Pytorch/src/trainer.py
